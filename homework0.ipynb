{
  "nbformat": 4,
  "nbformat_minor": 0,
  "metadata": {
    "kernelspec": {
      "display_name": "Python 3",
      "language": "python",
      "name": "python3"
    },
    "language_info": {
      "codemirror_mode": {
        "name": "ipython",
        "version": 3
      },
      "file_extension": ".py",
      "mimetype": "text/x-python",
      "name": "python",
      "nbconvert_exporter": "python",
      "pygments_lexer": "ipython3",
      "version": "3.7.9"
    },
    "colab": {
      "name": "homework0.ipynb",
      "provenance": [],
      "collapsed_sections": [],
      "include_colab_link": true
    }
  },
  "cells": [
    {
      "cell_type": "markdown",
      "metadata": {
        "id": "view-in-github",
        "colab_type": "text"
      },
      "source": [
        "<a href=\"https://colab.research.google.com/github/ice-bear-git/Astar-with-smoothed-path/blob/master/homework0.ipynb\" target=\"_parent\"><img src=\"https://colab.research.google.com/assets/colab-badge.svg\" alt=\"Open In Colab\"/></a>"
      ]
    },
    {
      "cell_type": "markdown",
      "metadata": {
        "id": "HGNowSMa3_0k"
      },
      "source": [
        "# Homework 0"
      ]
    },
    {
      "cell_type": "markdown",
      "metadata": {
        "id": "_pFESzqK3_0l"
      },
      "source": [
        "## Exercise \n",
        "\n",
        "Get used to using python as a calculator. Try computing all of the following:"
      ]
    },
    {
      "cell_type": "markdown",
      "metadata": {
        "id": "oSmTnzwt3_0l"
      },
      "source": [
        "(i) $10 \\sqrt{(2(11.4+12.6))}$"
      ]
    },
    {
      "cell_type": "code",
      "metadata": {
        "colab": {
          "base_uri": "https://localhost:8080/"
        },
        "id": "Eb6M-WQD3_0m",
        "outputId": "5a0384dd-4da1-4296-fe1c-95c795ac8b88"
      },
      "source": [
        "import numpy as np\n",
        "a = 10*np.sqrt(2*(11.4+12.6))\n",
        "a"
      ],
      "execution_count": null,
      "outputs": [
        {
          "output_type": "execute_result",
          "data": {
            "text/plain": [
              "69.28203230275508"
            ]
          },
          "metadata": {},
          "execution_count": 7
        }
      ]
    },
    {
      "cell_type": "markdown",
      "metadata": {
        "id": "rKMQ0GgQ3_0m"
      },
      "source": [
        "(ii) $e^{0.5}$"
      ]
    },
    {
      "cell_type": "code",
      "metadata": {
        "colab": {
          "base_uri": "https://localhost:8080/"
        },
        "id": "Hu3vbWEt3_0n",
        "outputId": "10c7d3bf-d46e-40b7-b913-d3f4b459edcd"
      },
      "source": [
        "import numpy as np\n",
        "a = np.exp(0.5)\n",
        "a"
      ],
      "execution_count": null,
      "outputs": [
        {
          "output_type": "execute_result",
          "data": {
            "text/plain": [
              "1.6487212707001282"
            ]
          },
          "metadata": {},
          "execution_count": 5
        }
      ]
    },
    {
      "cell_type": "markdown",
      "metadata": {
        "id": "1EUtIVZr3_0n"
      },
      "source": [
        "(iii) the value of $y=(10+sin(x)+x^2+cosh(x^2+1))/(sinh(x)+x^3+3x^4+e^x)$ for $x=\\pi$ and $x=0.2$"
      ]
    },
    {
      "cell_type": "code",
      "metadata": {
        "colab": {
          "base_uri": "https://localhost:8080/"
        },
        "id": "DLidsBDA3_0n",
        "outputId": "0ed4c116-016f-4297-af01-ab5adbe922d7"
      },
      "source": [
        "import numpy as np\n",
        "\n",
        "def value(xValue):\n",
        "  x = xValue\n",
        "  num = 10+np.sin(x)+x**2+np.cosh(x**2+1)\n",
        "  dem = np.sinh(x) + x**3 + 3*x**4 +np.exp(x)\n",
        "  y = num/dem\n",
        "  return y\n",
        "\n",
        "print(\"When x = pi, the value of y equals: \" , value(np.pi))\n",
        "print(\"When x = 0.2, the value of y equals: \" , value(0.2))\n"
      ],
      "execution_count": null,
      "outputs": [
        {
          "output_type": "stream",
          "name": "stdout",
          "text": [
            "When x = pi, the value of y equals:  73.47132985890015\n",
            "When x = 0.2, the value of y equals:  8.240812092855817\n"
          ]
        }
      ]
    },
    {
      "cell_type": "markdown",
      "metadata": {
        "id": "vUFJrQrv3_0n"
      },
      "source": [
        "## Exercise\n",
        "\n",
        "Write a function that takes as arguement $r$ for the radius of a circle and returns the diameter $r$ of the circle, as well as the circle's circumference $c$ and the area $a$. Try the function for $r=6$."
      ]
    },
    {
      "cell_type": "code",
      "metadata": {
        "colab": {
          "base_uri": "https://localhost:8080/"
        },
        "id": "bhOwyHHQ3_0o",
        "outputId": "7cc04dd1-a2cd-43b6-ecec-f75edd54dca4"
      },
      "source": [
        "import numpy as np\n",
        "\n",
        "def triangleInfo(radius):\n",
        "  r = radius\n",
        "  d = 2*r\n",
        "  c = 2*np.pi*r\n",
        "  a = np.pi*r**2\n",
        "  infoList = [d,c,a]\n",
        "  return infoList\n",
        "\n",
        "info = triangleInfo(radius=6)\n",
        "print(\"Given radius r=6, the circle's diameter d is\", info[0],\n",
        "      \" circumference c is \", info[1], \", and area a is \", info[2])"
      ],
      "execution_count": null,
      "outputs": [
        {
          "output_type": "stream",
          "name": "stdout",
          "text": [
            "Given radius r=6, the circle's diameter d is 12  circumference c is  37.69911184307752 , and area a is  113.09733552923255\n"
          ]
        }
      ]
    },
    {
      "cell_type": "markdown",
      "metadata": {
        "id": "NBkrDy1v3_0o"
      },
      "source": [
        "## Exercise\n",
        "\n",
        "Write a for loop to sum up all natural numbers from $1$ to $1,000,000$."
      ]
    },
    {
      "cell_type": "code",
      "metadata": {
        "colab": {
          "base_uri": "https://localhost:8080/"
        },
        "id": "WlJf8QlN3_0o",
        "outputId": "215d4c55-5f7b-4007-abbd-7c98c56374ba"
      },
      "source": [
        "## Method 1\n",
        "def sequenceSum(startVal,endVal, increment):\n",
        "  sum = 0\n",
        "  item = startVal\n",
        "  while (item < endVal) | (item == endVal):\n",
        "    sum += item\n",
        "    item +=increment\n",
        "  return sum\n",
        "\n",
        "sum1 = sequenceSum(1,1000000,1)\n",
        "print(\"method 1\", sum1)\n",
        "\n",
        "\n",
        "## Method 2\n",
        "a= range(1,1000001,1) # notice the exclusive or range at the right boundary\n",
        "sum2 = sum(a)\n",
        "print(\"method 2\", sum2)"
      ],
      "execution_count": null,
      "outputs": [
        {
          "output_type": "stream",
          "name": "stdout",
          "text": [
            "method 1 500000500000\n",
            "method 2 500000500000\n"
          ]
        }
      ]
    },
    {
      "cell_type": "markdown",
      "metadata": {
        "id": "iXe-nWlc3_0p"
      },
      "source": [
        "## Exercise\n",
        "\n",
        "Compute the sum $\\sum_{i=1}^{10}(i+1)$."
      ]
    },
    {
      "cell_type": "code",
      "metadata": {
        "colab": {
          "base_uri": "https://localhost:8080/"
        },
        "id": "a54UlL5z3_0p",
        "outputId": "3417b0b4-a553-46b3-cb19-d4ca82b1ed40"
      },
      "source": [
        "def sequenceSum(startVal,endVal,increment,bias):\n",
        "  sum = 0\n",
        "  item = startVal\n",
        "  while (item < endVal) | (item == endVal):\n",
        "    sum += item\n",
        "    item +=increment\n",
        "  return sum\n",
        "\n",
        "sum1 = sequenceSum(1,10,1,bias = 1)\n",
        "print(\"The sum of sequence here is \", sum1)"
      ],
      "execution_count": null,
      "outputs": [
        {
          "output_type": "stream",
          "name": "stdout",
          "text": [
            "The sum of sequence here is  55\n"
          ]
        }
      ]
    },
    {
      "cell_type": "markdown",
      "metadata": {
        "id": "A-DNvIbg3_0p"
      },
      "source": [
        "## Exercise\n",
        "\n",
        "The curve $f(x)=x^2+3x+\\sqrt5$ intersects the curve $g(x)=-x^2-2x+1$ at two points. Find the coordinates of the intersections and the gradients of the tangents to each curve at those points."
      ]
    },
    {
      "cell_type": "code",
      "metadata": {
        "colab": {
          "base_uri": "https://localhost:8080/"
        },
        "id": "TOULz3xW3_0q",
        "outputId": "244ab641-56db-4de4-bf21-0859ffa4467f"
      },
      "source": [
        "\"\"\"Method 1\"\"\"\n",
        "import numpy as np\n",
        "import sympy as sy\n",
        "\n",
        "\n",
        "def find_intersections(x,line_1,line_2):\n",
        "    intersection_set = set()\n",
        "    # print(type(intersection_set))\n",
        "    N = len(x)-1\n",
        "    index = 0\n",
        "    while index < N:\n",
        "        current_x, current_y1, current_y2 = x[index], line_1[index], line_2[index]\n",
        "        dif = np.abs(current_y2 - current_y1)\n",
        "        if dif < 1e-3:\n",
        "            # print(dif)\n",
        "            intersection_set.add((round(current_x, 3), round(current_y1, 2)))\n",
        "        index += 1\n",
        "    intersection_list = list(intersection_set)\n",
        "    return intersection_list\n",
        "\n",
        "\n",
        "def fun1(x):\n",
        "    y1 = np.square(x)+3*x+np.sqrt(5)\n",
        "    return y1\n",
        "\n",
        "\n",
        "def fun2(x):\n",
        "    y2 = - np.square(x)-2*x+1\n",
        "    return y2\n",
        "\n",
        "\n",
        "def FindGradients(current_x,tag=\"fun1\"):\n",
        "    import sympy as sy\n",
        "\n",
        "    x = sy.symbols('x')\n",
        "    y1 = x**2 + 3*x + sy.sqrt(5)\n",
        "    y2 = - x**2 - 2*x + 1\n",
        "    y1_dif = sy.diff(y1, x)\n",
        "    y2_dif = sy.diff(y2, x)\n",
        "\n",
        "    if tag == \"fun1\":\n",
        "        difValue = y1_dif.subs(x,current_x)\n",
        "        difValue = round(difValue.evalf(),2)\n",
        "        print(\"The gradient of function1 at x = \", current_x, \" is \", difValue)\n",
        "    if tag == \"fun2\":\n",
        "        difValue = y2_dif.subs(x,current_x)\n",
        "        difValue = round(difValue.evalf(),2)\n",
        "        print(\"The gradient of function2 at x = \", current_x, \" is \", difValue)\n",
        "\n",
        "\n",
        "t = np.linspace(-10, 10, 200000)\n",
        "curve_1 = fun1(t)\n",
        "curve_2 = fun2(t)\n",
        "\n",
        "\n",
        "intersection_points = find_intersections(t, curve_1, curve_2)\n",
        "print(\"The coordinates of intersection points are \", intersection_points)\n",
        "\n",
        "for point in intersection_points:\n",
        "    x, y = point\n",
        "    FindGradients(x,\"fun1\")\n",
        "    FindGradients(x,\"fun2\")"
      ],
      "execution_count": null,
      "outputs": [
        {
          "output_type": "stream",
          "name": "stdout",
          "text": [
            "The coordinates of intersection points are  [(-0.278, 1.48), (-2.222, 0.51)]\n",
            "The gradient of function1 at x =  -0.278  is  2.44\n",
            "The gradient of function2 at x =  -0.278  is  -1.44\n",
            "The gradient of function1 at x =  -2.222  is  -1.44\n",
            "The gradient of function2 at x =  -2.222  is  2.44\n"
          ]
        }
      ]
    },
    {
      "cell_type": "markdown",
      "metadata": {
        "id": "j0i22DY83_0q"
      },
      "source": [
        "## Exercise\n",
        "\n",
        "The Taylor series for sinh(x) is given by,\n",
        "\n",
        "$$sinh(x)=x+\\frac{x^3}{3!} + \\frac{x^5}{5!} + \\frac{x^7}{7!}+ ...$$\n",
        "\n",
        "Write a function that finds an approximate solution for $sinh(x)$. Try your function for $x=4$ and compute the error between your approximate answer and numpy's `sinh()` function. Report how many terms you need in order to achieve an error \n",
        "\n",
        "$$\\epsilon < 1e-4$$."
      ]
    },
    {
      "cell_type": "code",
      "metadata": {
        "colab": {
          "base_uri": "https://localhost:8080/"
        },
        "id": "xFuUN5yg3_0q",
        "outputId": "01373db8-11fd-4ebe-8797-56f650bfba1e"
      },
      "source": [
        "import numpy as np\n",
        "import sympy as sy\n",
        "\n",
        "global x\n",
        "x = sy.symbols('x')\n",
        "\n",
        "\n",
        "def approximate_sinh(term_Num = 3):\n",
        "    global x\n",
        "    # x = sy.symbols('x')\n",
        "    exp = 0\n",
        "    n=1\n",
        "    while n< term_Num+1:\n",
        "        exp += x**(2*n-1)/sy.factorial(2*n-1)\n",
        "        n +=1\n",
        "\n",
        "    # print(exp)\n",
        "    return exp\n",
        "\n",
        "\n",
        "N = range(1, 10)\n",
        "i = 1\n",
        "while i < len(N):\n",
        "    # print(i)\n",
        "    sym_exp = approximate_sinh(term_Num = i)\n",
        "    error = np.abs(np.sinh(4)-sym_exp.subs(x,4))\n",
        "    if error < 1e-4:\n",
        "        print(\"The required minimum number of terms to accurately approximating sinh() is \",i)\n",
        "        print(\"And the current expression is \", sym_exp)\n",
        "        break\n",
        "    else:\n",
        "        i += 1"
      ],
      "execution_count": null,
      "outputs": [
        {
          "output_type": "stream",
          "name": "stdout",
          "text": [
            "The required minimum number of terms to accurately approximating sinh() is  8\n",
            "And the current expression is  x**15/1307674368000 + x**13/6227020800 + x**11/39916800 + x**9/362880 + x**7/5040 + x**5/120 + x**3/6 + x\n"
          ]
        }
      ]
    },
    {
      "cell_type": "markdown",
      "metadata": {
        "id": "m3qf_ypz3_0r"
      },
      "source": [
        "## Exercise \n",
        "\n",
        "Consider the functions $f(x)=x^2$, $g(x)=sin(x)$, and $h(x)=sinh(x+1)-e^{2x}$. Write lambda functions that represents each of these functions. Then write another function that takes as its arguements two functions and the value of $x$ and returns the composition of the functions (e.g., $f(g(x))=f\\circ g(x)$). Use this to find:\n",
        "\n",
        "(i) $g\\circ f(5.0)$\n",
        "\n",
        "(ii) $f \\circ g(2)$\n",
        "\n",
        "(iii) $h \\circ(g\\circ f)(2\\pi)$"
      ]
    },
    {
      "cell_type": "code",
      "metadata": {
        "colab": {
          "base_uri": "https://localhost:8080/"
        },
        "id": "OLNq9RMm3_0r",
        "outputId": "fdba88ab-f6dc-4dc4-9a8b-0031bb205e88"
      },
      "source": [
        "\"\"\" Lambda functions, also referred to as 'Anonymous function'\n",
        "is same as a regular python function but can be defined without a name.\n",
        "ref: https://www.machinelearningplus.com/python/lambda-function/#1.-What-is-Lambda-Function-in-Python?\"\"\"\n",
        "\n",
        "import numpy as np\n",
        "\n",
        "# calculate squares using lambda\n",
        "f = lambda x: x*x\n",
        "g = lambda x: np.sin(x)\n",
        "h = lambda x: np.sinh(x+1)-np.exp(2*x)\n",
        "\n",
        "\n",
        "def nesting_g_f(f, g, x_value):\n",
        "    return g(f(x_value))\n",
        "\n",
        "\n",
        "print(nesting_g_f(f, g, x_value=5))"
      ],
      "execution_count": null,
      "outputs": [
        {
          "output_type": "stream",
          "name": "stdout",
          "text": [
            "-0.13235175009777303\n"
          ]
        }
      ]
    },
    {
      "cell_type": "code",
      "metadata": {
        "colab": {
          "base_uri": "https://localhost:8080/"
        },
        "id": "IzrxOn3x3_0r",
        "outputId": "595eafbc-fa61-4b7e-b096-7e03929c6ac4"
      },
      "source": [
        "\"\"\" Lambda functions, also referred to as 'Anonymous function'\n",
        "is same as a regular python function but can be defined without a name.\n",
        "ref: https://www.machinelearningplus.com/python/lambda-function/#1.-What-is-Lambda-Function-in-Python?\"\"\"\n",
        "\n",
        "import numpy as np\n",
        "\n",
        "# calculate squares using lambda\n",
        "f = lambda x: x*x\n",
        "g = lambda x: np.sin(x)\n",
        "h = lambda x: np.sinh(x+1)-np.exp(2*x)\n",
        "\n",
        "\n",
        "def nesting_f_g(f, g, x_value):\n",
        "    return f(g(x_value))\n",
        "\n",
        "\n",
        "print(nesting_f_g(f, g, x_value=2))"
      ],
      "execution_count": null,
      "outputs": [
        {
          "output_type": "stream",
          "name": "stdout",
          "text": [
            "0.826821810431806\n"
          ]
        }
      ]
    },
    {
      "cell_type": "code",
      "metadata": {
        "colab": {
          "base_uri": "https://localhost:8080/"
        },
        "id": "blDcGhm23_0r",
        "outputId": "9d73de37-ca82-425f-9d7e-df084a6bd348"
      },
      "source": [
        "\"\"\" Lambda functions, also referred to as 'Anonymous function'\n",
        "is same as a regular python function but can be defined without a name.\n",
        "ref: https://www.machinelearningplus.com/python/lambda-function/#1.-What-is-Lambda-Function-in-Python?\"\"\"\n",
        "\n",
        "import numpy as np\n",
        "\n",
        "# calculate squares using lambda\n",
        "f = lambda x: x*x\n",
        "g = lambda x: np.sin(x)\n",
        "h = lambda x: np.sinh(x+1)-np.exp(2*x)\n",
        "\n",
        "\n",
        "def nesting_h_g_f(f, g, h,x_value):\n",
        "    return h(g(f(x_value)))\n",
        "\n",
        "print(nesting_h_g_f(f, g, h, x_value=2*np.pi))"
      ],
      "execution_count": null,
      "outputs": [
        {
          "output_type": "stream",
          "name": "stdout",
          "text": [
            "-3.5295864605536447\n"
          ]
        }
      ]
    },
    {
      "cell_type": "markdown",
      "metadata": {
        "id": "Jh_zmfvF3_0r"
      },
      "source": [
        "\n",
        "## Exercise\n",
        "\n",
        "Implement the following matirx addition in Python using Numpy.\n",
        "\n",
        "\n",
        "$$\n",
        " \\mathbf{A} + \\mathbf{B} = \\begin{bmatrix} \n",
        "1 & 2 \\\\\n",
        "3 & 4 \\\\\n",
        "\\end{bmatrix}\n",
        "+\n",
        "\\begin{bmatrix} \n",
        "1 & 1  \\\\\n",
        "1 & 1 \\\\\n",
        "\\end{bmatrix}\n",
        "=\n",
        "\\begin{bmatrix} \n",
        "2 & 3  \\\\\n",
        "4 & 5 \\\\\n",
        "\\end{bmatrix}\n",
        "$$\n",
        "\n"
      ]
    },
    {
      "cell_type": "code",
      "metadata": {
        "id": "n-gRjLrj3_0s"
      },
      "source": [
        "\"\"\" Implementing matrix operation with numpy only\n",
        "ref: https://numpy.org/doc/stable/reference/generated/numpy.matrix.html\n",
        "\"\"\"\n",
        "import numpy as np\n",
        "\n",
        "A = np.matrix('1 2; 3 4')\n",
        "B = np.matrix('1 1; 1 1')\n",
        "C = A+B\n",
        "print(C)"
      ],
      "execution_count": null,
      "outputs": []
    },
    {
      "cell_type": "markdown",
      "metadata": {
        "id": "vlz08IhZ3_0s"
      },
      "source": [
        "Write a double for-loop that iterates over the elements of the numpy arrays and adds the two matrices together."
      ]
    },
    {
      "cell_type": "code",
      "metadata": {
        "id": "ZJNPk-Yr3_0s",
        "colab": {
          "base_uri": "https://localhost:8080/"
        },
        "outputId": "8f889e93-3b28-4b75-ba27-81b200ddf61e"
      },
      "source": [
        "\"\"\" Implementing matrix operation with numpy only\n",
        "ref: https://numpy.org/doc/stable/reference/generated/numpy.matrix.html\n",
        "\"\"\"\n",
        "import numpy as np\n",
        "\n",
        "A = np.matrix('1 2; 3 4')\n",
        "B = np.matrix('1 1; 1 1')\n",
        "list_C = []\n",
        "item_B = 1  # as all the elements of B equal to ONE\n",
        "for row_A in A:\n",
        "    print(row_A)\n",
        "    for item_A in row_A:\n",
        "        item_C = item_A + item_B\n",
        "        list_C.append(item_C)\n",
        "\n",
        "print(list_C)\n",
        "print(np.array(list_C))"
      ],
      "execution_count": 70,
      "outputs": [
        {
          "output_type": "stream",
          "name": "stdout",
          "text": [
            "[[1 2]]\n",
            "[[3 4]]\n",
            "[matrix([[2, 3]]), matrix([[4, 5]])]\n",
            "[[[2 3]]\n",
            "\n",
            " [[4 5]]]\n"
          ]
        }
      ]
    },
    {
      "cell_type": "markdown",
      "metadata": {
        "id": "FPg0AM0WNjkW"
      },
      "source": [
        ""
      ]
    }
  ]
}